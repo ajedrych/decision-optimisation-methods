{
 "cells": [
  {
   "cell_type": "code",
   "execution_count": 25,
   "metadata": {},
   "outputs": [
    {
     "name": "stdout",
     "output_type": "stream",
     "text": [
      "{'phi_negative': [('lekki', 0.9), ('wysokobialkowy', 1.6), ('naturalny', 1.7), ('szczypiorek', 1.7000000000000002), ('jagody', 2.9)], 'phi_positive': [('lekki', 2.4), ('naturalny', 2.0), ('wysokobialkowy', 2.0), ('szczypiorek', 1.8), ('jagody', 0.6000000000000001)], 'phi': [('lekki', 1.5), ('wysokobialkowy', 0.3999999999999999), ('naturalny', 0.30000000000000004), ('szczypiorek', 0.09999999999999987), ('jagody', -2.3)], 'matrix': 'Please run verbose to get the Promethee II matrix!'}\n"
     ]
    }
   ],
   "source": [
    "from EasyMCDM.models.Promethee import Promethee\n",
    "\n",
    "data = {\n",
    "  \"naturalny\": [194, 22, 10, 4, 200, 2.29],\n",
    "  \"lekki\": [121.5, 16.5, 4.5, 3.6, 150, 2.29],\n",
    "  \"szczypiorek\": [145.5, 16.5, 7.5, 3, 150, 3.09],\n",
    "  \"wysokobialkowy\": [186, 28, 6, 4.8, 200, 3.19],\n",
    "  \"jagody\": [183, 12.9, 6, 19.5, 150, 3.19]\n",
    "}\n",
    "weights = [0.2, 0.3, 0.1, 0.1, 0.1, 0.2]\n",
    "prefs = [\"min\",\"max\", \"min\", \"min\", \"max\", \"min\"]\n",
    "\n",
    "p = Promethee(data=data, verbose=False)\n",
    "res = p.solve(weights=weights, prefs=prefs)\n",
    "print(res)"
   ]
  }
 ],
 "metadata": {
  "kernelspec": {
   "display_name": "Python 3.9.7 ('base')",
   "language": "python",
   "name": "python3"
  },
  "language_info": {
   "codemirror_mode": {
    "name": "ipython",
    "version": 3
   },
   "file_extension": ".py",
   "mimetype": "text/x-python",
   "name": "python",
   "nbconvert_exporter": "python",
   "pygments_lexer": "ipython3",
   "version": "3.9.7"
  },
  "orig_nbformat": 4,
  "vscode": {
   "interpreter": {
    "hash": "b90b5480b90dfd82255d68efb607ef96370ef33575f247c89a0b81cbaa1e7b55"
   }
  }
 },
 "nbformat": 4,
 "nbformat_minor": 2
}
