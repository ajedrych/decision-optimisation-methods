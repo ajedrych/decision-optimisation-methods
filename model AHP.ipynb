{
 "cells": [
  {
   "cell_type": "markdown",
   "metadata": {},
   "source": [
    "# Metody optymalizacji decyzji"
   ]
  },
  {
   "cell_type": "markdown",
   "metadata": {},
   "source": [
    "### Metoda AHP"
   ]
  },
  {
   "cell_type": "code",
   "execution_count": 116,
   "metadata": {},
   "outputs": [],
   "source": [
    "import numpy as np\n",
    "from functools import reduce"
   ]
  },
  {
   "cell_type": "code",
   "execution_count": 117,
   "metadata": {},
   "outputs": [],
   "source": [
    "def ahp_method(dataset, wd = 'm'):\n",
    "    inc_rat  = np.array([0, 0, 0, 0.58, 0.9, 1.12, 1.24, 1.32, 1.41, 1.45]) # indeks losowy r\n",
    "    X        = np.copy(dataset) # analizowana macierz\n",
    "    weights  = np.zeros(X.shape[1]) \n",
    "    if (wd == 'm' or wd == 'mean'):\n",
    "        weights  = np.mean(X/np.sum(X, axis = 0), axis = 1)\n",
    "    elif (wd == 'g' or wd == 'geometric'):\n",
    "        for i in range (0, X.shape[1]):\n",
    "            weights[i] = reduce( (lambda x, y: x * y), X[i,:])**(1/X.shape[1])\n",
    "        weights = weights/np.sum(weights)   # względne wagi (krok 3 Ranking częściowy wg Trzaskalika)   \n",
    "    vector   = np.sum(X*weights, axis = 1)/weights  \n",
    "    lamb_max = np.mean(vector)\n",
    "    cons_ind = (lamb_max - X.shape[1])/(X.shape[1] - 1) # wartoisc obliczone w kroku 2 Wspolczynnik zgodnosci wg Trzaskalika\n",
    "    rc       = cons_ind/inc_rat[X.shape[1]] # lambda max\n",
    "    return weights, vector, lamb_max, cons_ind, rc"
   ]
  },
  {
   "cell_type": "markdown",
   "metadata": {},
   "source": [
    "weights - średnie dla każdego wiersza (względne wagi porównywanych elementów)\n",
    "\n",
    "vector - elementy otrzymane w kroku 2. obliczania Wspołczynnika zgodności wg Trzaskalika\n",
    "\n",
    "lamb_max - lambda maksymalna\n",
    "\n",
    "rc - współczynnik zgodności"
   ]
  },
  {
   "cell_type": "code",
   "execution_count": 118,
   "metadata": {},
   "outputs": [],
   "source": [
    "weight_derivation = 'mean' # wyliczamy wagi porównywanych elementów według średniej"
   ]
  },
  {
   "cell_type": "markdown",
   "metadata": {},
   "source": [
    "#### Kalorie"
   ]
  },
  {
   "cell_type": "code",
   "execution_count": 109,
   "metadata": {},
   "outputs": [],
   "source": [
    "dataset = np.array([\n",
    "  #g1     g2     g3     g4     g5                \n",
    "  [1, 1/5, 1/3],   #g1\n",
    "  [5, 1, 4],   #g2\n",
    "  [3, 1/4, 1]  \n",
    "])"
   ]
  },
  {
   "cell_type": "code",
   "execution_count": 110,
   "metadata": {},
   "outputs": [],
   "source": [
    "# Call AHP Function\n",
    "weights, vector, lamb_max, cons_ind, rc = ahp_method(dataset, wd = weight_derivation)\n"
   ]
  },
  {
   "cell_type": "code",
   "execution_count": 111,
   "metadata": {},
   "outputs": [
    {
     "data": {
      "text/plain": [
       "array([0.10384738, 0.66507024, 0.23108238])"
      ]
     },
     "execution_count": 111,
     "metadata": {},
     "output_type": "execute_result"
    }
   ],
   "source": [
    "weights"
   ]
  },
  {
   "cell_type": "code",
   "execution_count": 112,
   "metadata": {},
   "outputs": [
    {
     "data": {
      "text/plain": [
       "array([3.022598  , 3.17054729, 3.06770294])"
      ]
     },
     "execution_count": 112,
     "metadata": {},
     "output_type": "execute_result"
    }
   ],
   "source": [
    "vector"
   ]
  },
  {
   "cell_type": "code",
   "execution_count": 113,
   "metadata": {},
   "outputs": [
    {
     "data": {
      "text/plain": [
       "3.086949408400003"
      ]
     },
     "execution_count": 113,
     "metadata": {},
     "output_type": "execute_result"
    }
   ],
   "source": [
    "lamb_max"
   ]
  },
  {
   "cell_type": "code",
   "execution_count": 114,
   "metadata": {},
   "outputs": [
    {
     "data": {
      "text/plain": [
       "0.043474704200001435"
      ]
     },
     "execution_count": 114,
     "metadata": {},
     "output_type": "execute_result"
    }
   ],
   "source": [
    "cons_ind"
   ]
  },
  {
   "cell_type": "code",
   "execution_count": 115,
   "metadata": {},
   "outputs": [
    {
     "data": {
      "text/plain": [
       "0.07495638655172662"
      ]
     },
     "execution_count": 115,
     "metadata": {},
     "output_type": "execute_result"
    }
   ],
   "source": [
    "rc"
   ]
  },
  {
   "cell_type": "code",
   "execution_count": 54,
   "metadata": {},
   "outputs": [
    {
     "ename": "IndexError",
     "evalue": "tuple index out of range",
     "output_type": "error",
     "traceback": [
      "\u001b[1;31m---------------------------------------------------------------------------\u001b[0m",
      "\u001b[1;31mIndexError\u001b[0m                                Traceback (most recent call last)",
      "\u001b[1;32m~\\AppData\\Local\\Temp/ipykernel_5680/2784883638.py\u001b[0m in \u001b[0;36m<module>\u001b[1;34m\u001b[0m\n\u001b[0;32m      1\u001b[0m \u001b[1;31m# Weigths\u001b[0m\u001b[1;33m\u001b[0m\u001b[1;33m\u001b[0m\u001b[0m\n\u001b[1;32m----> 2\u001b[1;33m \u001b[1;32mfor\u001b[0m \u001b[0mi\u001b[0m \u001b[1;32min\u001b[0m \u001b[0mrange\u001b[0m\u001b[1;33m(\u001b[0m\u001b[1;36m0\u001b[0m\u001b[1;33m,\u001b[0m \u001b[0mweights\u001b[0m\u001b[1;33m.\u001b[0m\u001b[0mshape\u001b[0m\u001b[1;33m[\u001b[0m\u001b[1;36m0\u001b[0m\u001b[1;33m]\u001b[0m\u001b[1;33m)\u001b[0m\u001b[1;33m:\u001b[0m\u001b[1;33m\u001b[0m\u001b[1;33m\u001b[0m\u001b[0m\n\u001b[0m\u001b[0;32m      3\u001b[0m   \u001b[0mprint\u001b[0m\u001b[1;33m(\u001b[0m\u001b[1;34m'w(g'\u001b[0m\u001b[1;33m+\u001b[0m\u001b[0mstr\u001b[0m\u001b[1;33m(\u001b[0m\u001b[0mi\u001b[0m\u001b[1;33m+\u001b[0m\u001b[1;36m1\u001b[0m\u001b[1;33m)\u001b[0m\u001b[1;33m+\u001b[0m\u001b[1;34m'): '\u001b[0m\u001b[1;33m,\u001b[0m \u001b[0mround\u001b[0m\u001b[1;33m(\u001b[0m\u001b[0mweights\u001b[0m\u001b[1;33m[\u001b[0m\u001b[0mi\u001b[0m\u001b[1;33m]\u001b[0m\u001b[1;33m,\u001b[0m \u001b[1;36m3\u001b[0m\u001b[1;33m)\u001b[0m\u001b[1;33m)\u001b[0m\u001b[1;33m\u001b[0m\u001b[1;33m\u001b[0m\u001b[0m\n",
      "\u001b[1;31mIndexError\u001b[0m: tuple index out of range"
     ]
    }
   ],
   "source": [
    "# Weigths\n",
    "for i in range(0, weights.shape[0]):\n",
    "  print('w(g'+str(i+1)+'): ', round(weights[i], 3))"
   ]
  },
  {
   "cell_type": "code",
   "execution_count": 17,
   "metadata": {},
   "outputs": [
    {
     "name": "stdout",
     "output_type": "stream",
     "text": [
      "RC: 0.0\n",
      "The solution is consistent\n"
     ]
    }
   ],
   "source": [
    "# Consistency Ratio\n",
    "print('RC: ' + str(round(rc, 2)))\n",
    "if (rc > 0.10):\n",
    "  print('The solution is inconsistent, the pairwise comparisons must be reviewed')\n",
    "else:\n",
    "  print('The solution is consistent')"
   ]
  },
  {
   "cell_type": "markdown",
   "metadata": {},
   "source": [
    "#### Metoda Electre"
   ]
  },
  {
   "cell_type": "code",
   "execution_count": 3,
   "metadata": {},
   "outputs": [],
   "source": [
    "import numpy as np\n",
    "\n",
    "from pyDecision.algorithm import electre_i"
   ]
  },
  {
   "cell_type": "code",
   "execution_count": 4,
   "metadata": {},
   "outputs": [],
   "source": [
    "# ELECTRE I\n",
    "    \n",
    "# Parameters\n",
    "c_hat = 1.00\n",
    "d_hat = 0.40\n",
    "\n",
    "W = [0.1, 0.2, 0.1, 0.1, 0.1, 0.2]\n",
    "\n",
    "# Dataset\n",
    "dataset = np.array([\n",
    "                [194, 22, 10, 4, 200, 2.29],   #a1\n",
    "                [121.5, 16.5, 4.5, 3.6, 150, 2.29],   #a2\n",
    "                [145.5, 16.5, 7.5, 3, 150, 3.09],   #a3\n",
    "                [186, 28, 6, 4.8, 200, 3.19],   #a4\n",
    "                [183, 12.9, 6, 19.5, 150, 3.19]    #a5\n",
    "                ])"
   ]
  },
  {
   "cell_type": "code",
   "execution_count": 5,
   "metadata": {},
   "outputs": [
    {
     "data": {
      "image/png": "[encoded data removed]",
      "text/plain": [
       "<Figure size 432x288 with 1 Axes>"
      ]
     },
     "metadata": {
      "needs_background": "light"
     },
     "output_type": "display_data"
    }
   ],
   "source": [
    "# Call Electre I Function\n",
    "concordance, discordance, dominance, kernel, dominated = electre_i(dataset, W = W, remove_cycles = True, c_hat = 0.75, d_hat = 0.50, graph = True)"
   ]
  },
  {
   "cell_type": "code",
   "execution_count": 6,
   "metadata": {},
   "outputs": [
    {
     "data": {
      "text/plain": [
       "array([[1.  , 1.  , 0.75, 0.38, 0.62],\n",
       "       [0.25, 1.  , 0.5 , 0.  , 0.38],\n",
       "       [0.25, 0.87, 1.  , 0.12, 0.5 ],\n",
       "       [0.75, 1.  , 0.87, 1.  , 0.87],\n",
       "       [0.38, 0.75, 0.62, 0.5 , 1.  ]])"
      ]
     },
     "execution_count": 6,
     "metadata": {},
     "output_type": "execute_result"
    }
   ],
   "source": [
    "# Concordance Matrix\n",
    "np.ndarray.round(concordance, decimals = 2)"
   ]
  },
  {
   "cell_type": "code",
   "execution_count": 7,
   "metadata": {},
   "outputs": [
    {
     "data": {
      "text/plain": [
       "array([[0.  , 0.  , 0.01, 0.08, 0.21],\n",
       "       [1.  , 0.  , 0.33, 0.89, 0.85],\n",
       "       [0.69, 0.01, 0.  , 0.69, 0.52],\n",
       "       [0.11, 0.  , 0.02, 0.  , 0.2 ],\n",
       "       [0.69, 0.05, 0.05, 0.69, 0.  ]])"
      ]
     },
     "execution_count": 7,
     "metadata": {},
     "output_type": "execute_result"
    }
   ],
   "source": [
    "# Discordance Matrix\n",
    "np.ndarray.round(discordance, decimals = 2)"
   ]
  },
  {
   "cell_type": "code",
   "execution_count": 8,
   "metadata": {},
   "outputs": [
    {
     "data": {
      "text/plain": [
       "array([[0., 1., 0., 0., 0.],\n",
       "       [0., 0., 0., 0., 0.],\n",
       "       [0., 1., 0., 0., 0.],\n",
       "       [1., 1., 1., 0., 1.],\n",
       "       [0., 1., 0., 0., 0.]])"
      ]
     },
     "execution_count": 8,
     "metadata": {},
     "output_type": "execute_result"
    }
   ],
   "source": [
    "# Dominnce Matrix\n",
    "np.ndarray.round(dominance, decimals = 2)"
   ]
  },
  {
   "cell_type": "code",
   "execution_count": 9,
   "metadata": {},
   "outputs": [
    {
     "data": {
      "text/plain": [
       "['a4']"
      ]
     },
     "execution_count": 9,
     "metadata": {},
     "output_type": "execute_result"
    }
   ],
   "source": [
    "# Kernel Alternatives\n",
    "kernel"
   ]
  },
  {
   "cell_type": "code",
   "execution_count": 10,
   "metadata": {},
   "outputs": [
    {
     "data": {
      "text/plain": [
       "['a1', 'a2', 'a3', 'a5']"
      ]
     },
     "execution_count": 10,
     "metadata": {},
     "output_type": "execute_result"
    }
   ],
   "source": [
    "# Dominated Alternatives\n",
    "dominated"
   ]
  },
  {
   "cell_type": "markdown",
   "metadata": {},
   "source": [
    "#### Metoda Promethee"
   ]
  },
  {
   "cell_type": "code",
   "execution_count": 1,
   "metadata": {},
   "outputs": [
    {
     "name": "stdout",
     "output_type": "stream",
     "text": [
      "{'phi_negative': [('lekki', 0.7000000000000001), ('naturalny', 1.2), ('wysokobialkowy', 1.3000000000000003), ('szczypiorek', 1.4000000000000001), ('jagody', 2.3000000000000003)], 'phi_positive': [('lekki', 1.9000000000000001), ('naturalny', 1.7000000000000002), ('wysokobialkowy', 1.5), ('szczypiorek', 1.4000000000000001), ('jagody', 0.4)], 'phi': [('lekki', 1.2000000000000002), ('naturalny', 0.5000000000000002), ('wysokobialkowy', 0.19999999999999973), ('szczypiorek', 0.0), ('jagody', -1.9000000000000004)], 'matrix': 'Please run verbose to get the Promethee II matrix!'}\n"
     ]
    }
   ],
   "source": [
    "from EasyMCDM.models.Promethee import Promethee\n",
    "\n",
    "data = {\n",
    "  \"naturalny\": [194, 22, 10, 4, 200, 2.29],\n",
    "  \"lekki\": [121.5, 16.5, 4.5, 3.6, 150, 2.29],\n",
    "  \"szczypiorek\": [145.5, 16.5, 7.5, 3, 150, 3.09],\n",
    "  \"wysokobialkowy\": [186, 28, 6, 4.8, 200, 3.19],\n",
    "  \"jagody\": [183, 12.9, 6, 19.5, 150, 3.19]\n",
    "}\n",
    "weights = [0.1, 0.2, 0.1, 0.1, 0.1, 0.2]\n",
    "prefs = [\"min\",\"max\",\"min\",\"min\",\"max\",\"min\"]\n",
    "\n",
    "p = Promethee(data=data, verbose=False)\n",
    "res = p.solve(weights=weights, prefs=prefs)\n",
    "print(res)"
   ]
  }
 ],
 "metadata": {
  "interpreter": {
   "hash": "b90b5480b90dfd82255d68efb607ef96370ef33575f247c89a0b81cbaa1e7b55"
  },
  "kernelspec": {
   "display_name": "Python 3.9.7 ('base')",
   "language": "python",
   "name": "python3"
  },
  "language_info": {
   "codemirror_mode": {
    "name": "ipython",
    "version": 3
   },
   "file_extension": ".py",
   "mimetype": "text/x-python",
   "name": "python",
   "nbconvert_exporter": "python",
   "pygments_lexer": "ipython3",
   "version": "3.9.7"
  },
  "orig_nbformat": 4
 },
 "nbformat": 4,
 "nbformat_minor": 2
}
