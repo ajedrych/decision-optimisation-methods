{
 "cells": [
  {
   "cell_type": "markdown",
   "metadata": {},
   "source": [
    "# Metody optymalizacji decyzji"
   ]
  },
  {
   "cell_type": "markdown",
   "metadata": {},
   "source": [
    "### Metoda AHP"
   ]
  },
  {
   "cell_type": "code",
   "execution_count": 1,
   "metadata": {},
   "outputs": [],
   "source": [
    "import numpy as np\n",
    "from functools import reduce"
   ]
  },
  {
   "cell_type": "code",
   "execution_count": 2,
   "metadata": {},
   "outputs": [],
   "source": [
    "def ahp_method(dataset, wd = 'm'):\n",
    "    inc_rat  = np.array([0, 0, 0, 0.58, 0.9, 1.12, 1.24, 1.32, 1.41, 1.45]) # indeks losowy r\n",
    "    X        = np.copy(dataset) # analizowana macierz\n",
    "    weights  = np.zeros(X.shape[1]) \n",
    "    if (wd == 'm' or wd == 'mean'):\n",
    "        weights  = np.mean(X/np.sum(X, axis = 0), axis = 1)\n",
    "    elif (wd == 'g' or wd == 'geometric'):\n",
    "        for i in range (0, X.shape[1]):\n",
    "            weights[i] = reduce( (lambda x, y: x * y), X[i,:])**(1/X.shape[1])\n",
    "        weights = weights/np.sum(weights)   # względne wagi (krok 3 Ranking częściowy wg Trzaskalika)   \n",
    "    vector   = np.sum(X*weights, axis = 1)/weights  \n",
    "    lamb_max = np.mean(vector)\n",
    "    cons_ind = (lamb_max - X.shape[1])/(X.shape[1] - 1) # wartoisc obliczone w kroku 2 Wspolczynnik zgodnosci wg Trzaskalika\n",
    "    rc       = cons_ind/inc_rat[X.shape[1]] # lambda max\n",
    "    return weights, vector, lamb_max, cons_ind, rc\n",
    "\n",
    "\n",
    "    # powyższy kod pochodzi z: https://github.com/Valdecy/pyDecision"
   ]
  },
  {
   "cell_type": "markdown",
   "metadata": {},
   "source": [
    "weights - średnie dla każdego wiersza (względne wagi porównywanych elementów)\n",
    "\n",
    "vector - elementy otrzymane w kroku 2. obliczania Wspołczynnika zgodności wg Trzaskalika\n",
    "\n",
    "lamb_max - lambda maksymalna\n",
    "\n",
    "rc - współczynnik zgodności"
   ]
  },
  {
   "cell_type": "code",
   "execution_count": 8,
   "metadata": {},
   "outputs": [],
   "source": [
    "weight_derivation = 'mean' # wyliczamy wagi porównywanych elementów według średniej\n",
    "n = 5\n",
    "r = 1,12 # według tablic Trzaskalika"
   ]
  },
  {
   "cell_type": "code",
   "execution_count": 14,
   "metadata": {},
   "outputs": [],
   "source": [
    "kalorie = np.array([\n",
    "  #g1     g2     g3     g4     g5                \n",
    "  [1,    1/5,   1/4,    1,      1],   #g1\n",
    "  [5,      1,     2,    5,      5],   #g2\n",
    "  [4,    1/2,     1,    3,      3],   #g3\n",
    "  [1,    1/5,   1/3,    1,      1],   #g4\n",
    "  [1,    1/5,   1/3,    1,      1]    #g5\n",
    "])"
   ]
  },
  {
   "cell_type": "code",
   "execution_count": 15,
   "metadata": {},
   "outputs": [],
   "source": [
    "# Call AHP Function\n",
    "weights, vector, lamb_max, cons_ind, rc = ahp_method(kalorie, wd = weight_derivation)"
   ]
  },
  {
   "cell_type": "code",
   "execution_count": 36,
   "metadata": {},
   "outputs": [
    {
     "data": {
      "text/plain": [
       "5.018224305954448"
      ]
     },
     "execution_count": 36,
     "metadata": {},
     "output_type": "execute_result"
    }
   ],
   "source": [
    "# Lambda max\n",
    "lamb_max"
   ]
  },
  {
   "cell_type": "code",
   "execution_count": 38,
   "metadata": {},
   "outputs": [
    {
     "name": "stdout",
     "output_type": "stream",
     "text": [
      "0.004067925436260619\n",
      "RC: 0.0\n",
      "Rozwiązanie jest wystarczająco zgodne, to jest c <= 0,1\n"
     ]
    }
   ],
   "source": [
    "# Współczynnik zgodności\n",
    "print(rc)\n",
    "\n",
    "# Sprawdzenie czy zgodność jest wystarczająca\n",
    "print('RC: ' + str(round(rc, 2)))\n",
    "if (rc > 0.10):\n",
    "  print('Rozwiązanie jest niewystarczająco zgodne')\n",
    "else:\n",
    "  print('Rozwiązanie jest wystarczająco zgodne, to jest c <= 0,1')"
   ]
  },
  {
   "cell_type": "code",
   "execution_count": 19,
   "metadata": {},
   "outputs": [
    {
     "name": "stdout",
     "output_type": "stream",
     "text": [
      "w(g1):  0.085\n",
      "w(g2):  0.463\n",
      "w(g3):  0.274\n",
      "w(g4):  0.089\n",
      "w(g5):  0.089\n"
     ]
    }
   ],
   "source": [
    "# Wagi\n",
    "for i in range(0, weights.shape[0]):\n",
    "  print('w(g'+str(i+1)+'): ', round(weights[i], 3))"
   ]
  },
  {
   "cell_type": "markdown",
   "metadata": {},
   "source": [
    "#### Białko"
   ]
  },
  {
   "cell_type": "code",
   "execution_count": 39,
   "metadata": {},
   "outputs": [],
   "source": [
    "bialko = np.array([\n",
    "  #g1     g2     g3     g4     g5                \n",
    "  [1,      2,     2,  1/2,      3],   #g1\n",
    "  [1/2,    1,     1,  1/4,      2],   #g2\n",
    "  [1/2,    1,     1,  1/4,      2],   #g3\n",
    "  [2,      4,     4,    1,      5],   #g4\n",
    "  [1/3,  1/2,   1/2,  1/5,      1]    #g5\n",
    "])"
   ]
  },
  {
   "cell_type": "code",
   "execution_count": 40,
   "metadata": {},
   "outputs": [],
   "source": [
    "# Call AHP Function\n",
    "weights, vector, lamb_max, cons_ind, rc = ahp_method(bialko, wd = weight_derivation)"
   ]
  },
  {
   "cell_type": "code",
   "execution_count": 41,
   "metadata": {},
   "outputs": [
    {
     "data": {
      "text/plain": [
       "5.025799272965289"
      ]
     },
     "execution_count": 41,
     "metadata": {},
     "output_type": "execute_result"
    }
   ],
   "source": [
    "# Lambda max\n",
    "lamb_max"
   ]
  },
  {
   "cell_type": "code",
   "execution_count": 42,
   "metadata": {},
   "outputs": [
    {
     "name": "stdout",
     "output_type": "stream",
     "text": [
      "0.005758766286894803\n",
      "RC: 0.01\n",
      "Rozwiązanie jest wystarczająco zgodne, to jest c <= 0,1\n"
     ]
    }
   ],
   "source": [
    "# Współczynnik zgodności\n",
    "print(rc)\n",
    "\n",
    "# Sprawdzenie czy zgodność jest wystarczająca\n",
    "print('RC: ' + str(round(rc, 2)))\n",
    "if (rc > 0.10):\n",
    "  print('Rozwiązanie jest niewystarczająco zgodne')\n",
    "else:\n",
    "  print('Rozwiązanie jest wystarczająco zgodne, to jest c <= 0,1')"
   ]
  },
  {
   "cell_type": "code",
   "execution_count": 43,
   "metadata": {},
   "outputs": [
    {
     "name": "stdout",
     "output_type": "stream",
     "text": [
      "w(g1):  0.232\n",
      "w(g2):  0.124\n",
      "w(g3):  0.124\n",
      "w(g4):  0.448\n",
      "w(g5):  0.072\n"
     ]
    }
   ],
   "source": [
    "# Wagi\n",
    "for i in range(0, weights.shape[0]):\n",
    "  print('w(g'+str(i+1)+'): ', round(weights[i], 3))"
   ]
  },
  {
   "cell_type": "markdown",
   "metadata": {},
   "source": [
    "#### Tłuszcze"
   ]
  },
  {
   "cell_type": "code",
   "execution_count": null,
   "metadata": {},
   "outputs": [],
   "source": [
    "tluszcze = np.array([\n",
    "  #g1     g2     g3     g4     g5                \n",
    "  [1,    1/5,   1/4,    1,      1],   #g1\n",
    "  [5,      1,     2,    5,      5],   #g2\n",
    "  [4,    1/2,     1,    3,      3],   #g3\n",
    "  [1,    1/5,   1/3,    1,      1],   #g4\n",
    "  [1,    1/5,   1/3,    1,      1]    #g5\n",
    "])"
   ]
  },
  {
   "cell_type": "code",
   "execution_count": null,
   "metadata": {},
   "outputs": [],
   "source": [
    "# Call AHP Function\n",
    "weights, vector, lamb_max, cons_ind, rc = ahp_method(tluszcze, wd = weight_derivation)"
   ]
  },
  {
   "cell_type": "code",
   "execution_count": null,
   "metadata": {},
   "outputs": [],
   "source": [
    "# Lambda max\n",
    "lamb_max"
   ]
  },
  {
   "cell_type": "code",
   "execution_count": null,
   "metadata": {},
   "outputs": [],
   "source": [
    "# Współczynnik zgodności\n",
    "print(rc)\n",
    "\n",
    "# Sprawdzenie czy zgodność jest wystarczająca\n",
    "print('RC: ' + str(round(rc, 2)))\n",
    "if (rc > 0.10):\n",
    "  print('Rozwiązanie jest niewystarczająco zgodne')\n",
    "else:\n",
    "  print('Rozwiązanie jest wystarczająco zgodne, to jest c <= 0,1')"
   ]
  },
  {
   "cell_type": "code",
   "execution_count": null,
   "metadata": {},
   "outputs": [],
   "source": [
    "# Wagi\n",
    "for i in range(0, weights.shape[0]):\n",
    "  print('w(g'+str(i+1)+'): ', round(weights[i], 3))"
   ]
  },
  {
   "cell_type": "markdown",
   "metadata": {},
   "source": [
    "#### Węglowodany\n"
   ]
  },
  {
   "cell_type": "code",
   "execution_count": null,
   "metadata": {},
   "outputs": [],
   "source": [
    "weglowodany = np.array([\n",
    "  #g1     g2     g3     g4     g5                \n",
    "  [1,    1/5,   1/4,    1,      1],   #g1\n",
    "  [5,      1,     2,    5,      5],   #g2\n",
    "  [4,    1/2,     1,    3,      3],   #g3\n",
    "  [1,    1/5,   1/3,    1,      1],   #g4\n",
    "  [1,    1/5,   1/3,    1,      1]    #g5\n",
    "])"
   ]
  },
  {
   "cell_type": "code",
   "execution_count": null,
   "metadata": {},
   "outputs": [],
   "source": [
    "# Call AHP Function\n",
    "weights, vector, lamb_max, cons_ind, rc = ahp_method(weglowodany, wd = weight_derivation)"
   ]
  },
  {
   "cell_type": "code",
   "execution_count": null,
   "metadata": {},
   "outputs": [],
   "source": [
    "# Lambda max\n",
    "lamb_max"
   ]
  },
  {
   "cell_type": "code",
   "execution_count": null,
   "metadata": {},
   "outputs": [],
   "source": [
    "# Współczynnik zgodności\n",
    "print(rc)\n",
    "\n",
    "# Sprawdzenie czy zgodność jest wystarczająca\n",
    "print('RC: ' + str(round(rc, 2)))\n",
    "if (rc > 0.10):\n",
    "  print('Rozwiązanie jest niewystarczająco zgodne')\n",
    "else:\n",
    "  print('Rozwiązanie jest wystarczająco zgodne, to jest c <= 0,1')"
   ]
  },
  {
   "cell_type": "code",
   "execution_count": null,
   "metadata": {},
   "outputs": [],
   "source": [
    "# Wagi\n",
    "for i in range(0, weights.shape[0]):\n",
    "  print('w(g'+str(i+1)+'): ', round(weights[i], 3))"
   ]
  },
  {
   "cell_type": "markdown",
   "metadata": {},
   "source": [
    "#### Pojemność"
   ]
  },
  {
   "cell_type": "code",
   "execution_count": null,
   "metadata": {},
   "outputs": [],
   "source": [
    "pojemnosc = np.array([\n",
    "  #g1     g2     g3     g4     g5                \n",
    "  [1,    1/5,   1/4,    1,      1],   #g1\n",
    "  [5,      1,     2,    5,      5],   #g2\n",
    "  [4,    1/2,     1,    3,      3],   #g3\n",
    "  [1,    1/5,   1/3,    1,      1],   #g4\n",
    "  [1,    1/5,   1/3,    1,      1]    #g5\n",
    "])"
   ]
  },
  {
   "cell_type": "code",
   "execution_count": null,
   "metadata": {},
   "outputs": [],
   "source": [
    "# Call AHP Function\n",
    "weights, vector, lamb_max, cons_ind, rc = ahp_method(pojemnosc, wd = weight_derivation)"
   ]
  },
  {
   "cell_type": "code",
   "execution_count": null,
   "metadata": {},
   "outputs": [],
   "source": [
    "# Lambda max\n",
    "lamb_max"
   ]
  },
  {
   "cell_type": "code",
   "execution_count": null,
   "metadata": {},
   "outputs": [],
   "source": [
    "# Współczynnik zgodności\n",
    "print(rc)\n",
    "\n",
    "# Sprawdzenie czy zgodność jest wystarczająca\n",
    "print('RC: ' + str(round(rc, 2)))\n",
    "if (rc > 0.10):\n",
    "  print('Rozwiązanie jest niewystarczająco zgodne')\n",
    "else:\n",
    "  print('Rozwiązanie jest wystarczająco zgodne, to jest c <= 0,1')"
   ]
  },
  {
   "cell_type": "code",
   "execution_count": null,
   "metadata": {},
   "outputs": [],
   "source": [
    "# Wagi\n",
    "for i in range(0, weights.shape[0]):\n",
    "  print('w(g'+str(i+1)+'): ', round(weights[i], 3))"
   ]
  },
  {
   "cell_type": "markdown",
   "metadata": {},
   "source": [
    "#### Cena"
   ]
  },
  {
   "cell_type": "code",
   "execution_count": null,
   "metadata": {},
   "outputs": [],
   "source": [
    "cena = np.array([\n",
    "  #g1     g2     g3     g4     g5                \n",
    "  [1,    1/5,   1/4,    1,      1],   #g1\n",
    "  [5,      1,     2,    5,      5],   #g2\n",
    "  [4,    1/2,     1,    3,      3],   #g3\n",
    "  [1,    1/5,   1/3,    1,      1],   #g4\n",
    "  [1,    1/5,   1/3,    1,      1]    #g5\n",
    "])"
   ]
  },
  {
   "cell_type": "code",
   "execution_count": null,
   "metadata": {},
   "outputs": [],
   "source": [
    "# Call AHP Function\n",
    "weights, vector, lamb_max, cons_ind, rc = ahp_method(pojemnosc, wd = weight_derivation)"
   ]
  },
  {
   "cell_type": "code",
   "execution_count": null,
   "metadata": {},
   "outputs": [],
   "source": [
    "# Lambda max\n",
    "lamb_max"
   ]
  },
  {
   "cell_type": "code",
   "execution_count": null,
   "metadata": {},
   "outputs": [],
   "source": [
    "# Współczynnik zgodności\n",
    "print(rc)\n",
    "\n",
    "# Sprawdzenie czy zgodność jest wystarczająca\n",
    "print('RC: ' + str(round(rc, 2)))\n",
    "if (rc > 0.10):\n",
    "  print('Rozwiązanie jest niewystarczająco zgodne')\n",
    "else:\n",
    "  print('Rozwiązanie jest wystarczająco zgodne, to jest c <= 0,1')"
   ]
  },
  {
   "cell_type": "code",
   "execution_count": null,
   "metadata": {},
   "outputs": [],
   "source": [
    "# Wagi\n",
    "for i in range(0, weights.shape[0]):\n",
    "  print('w(g'+str(i+1)+'): ', round(weights[i], 3))"
   ]
  }
 ],
 "metadata": {
  "interpreter": {
   "hash": "b90b5480b90dfd82255d68efb607ef96370ef33575f247c89a0b81cbaa1e7b55"
  },
  "kernelspec": {
   "display_name": "Python 3.9.7 ('base')",
   "language": "python",
   "name": "python3"
  },
  "language_info": {
   "codemirror_mode": {
    "name": "ipython",
    "version": 3
   },
   "file_extension": ".py",
   "mimetype": "text/x-python",
   "name": "python",
   "nbconvert_exporter": "python",
   "pygments_lexer": "ipython3",
   "version": "3.9.7"
  },
  "orig_nbformat": 4
 },
 "nbformat": 4,
 "nbformat_minor": 2
}
